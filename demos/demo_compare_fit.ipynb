{
 "cells": [
  {
   "cell_type": "code",
   "execution_count": 3,
   "id": "08de5853",
   "metadata": {},
   "outputs": [],
   "source": [
    "##Determine best fit using R2 values"
   ]
  },
  {
   "cell_type": "code",
   "execution_count": 28,
   "id": "0027377a",
   "metadata": {},
   "outputs": [],
   "source": [
    "import numpy as np\n",
    "import h5py\n",
    "import matplotlib.pyplot as plt\n",
    "from matplotlib import colors as clrs\n",
    "import matplotlib as mpl\n",
    "import pandas as pd\n",
    "%matplotlib inline\n",
    "\n",
    "import glob\n",
    "import csv\n",
    "\n",
    "from scipy.optimize import curve_fit\n",
    "from scipy.optimize import minimize\n",
    "import numpy as np\n",
    "\n",
    "plt.rcParams.update({\n",
    "    'font.size': 26,  \n",
    "    'text.color': 'black',  \n",
    "    'xtick.labelsize': 26, \n",
    "    'ytick.labelsize': 26,  \n",
    "    'legend.fontsize': 26, \n",
    "    'axes.labelsize': 26,  \n",
    "})\n",
    "\n",
    "time_conversion = 24 * 60 # 24 hours * 60 minutes\n",
    "growth_rate = 210 #210 micron per day"
   ]
  },
  {
   "cell_type": "code",
   "execution_count": 29,
   "id": "91fdd33a",
   "metadata": {},
   "outputs": [],
   "source": [
    "##some commands to suppress warnings\n",
    "import warnings\n",
    "warnings.filterwarnings(\"ignore\", \n",
    "                        category=RuntimeWarning, \n",
    "                        message=\"overflow encountered in scalar divide\")\n",
    "warnings.filterwarnings(\"ignore\", \n",
    "                        category=RuntimeWarning, \n",
    "                        message=\"overflow encountered in exp\")"
   ]
  },
  {
   "cell_type": "code",
   "execution_count": 30,
   "id": "bfaa8283",
   "metadata": {},
   "outputs": [],
   "source": [
    "def get_info_spatial(file):\n",
    "    data = {}  \n",
    "    with open(file, newline='') as csvfile:\n",
    "        reader = csv.reader(csvfile)\n",
    "        headers = next(reader)  \n",
    "    \n",
    "        for row in reader:\n",
    "            distance = row[0]  \n",
    "            values = row[1:]\n",
    "\n",
    "            data[float(distance)] = [float(value) for value in values]\n",
    "            \n",
    "    original_keys = sorted(data.keys())\n",
    "\n",
    "    depth = 4.  # 4 micron from the skeleton surface\n",
    "    num_bins = len(original_keys) \n",
    "    bin_dict = {key: np.linspace(0, depth, num_bins)[int(key) - 1] for key in original_keys}   \n",
    "    new_data = {bin_dict[key]: [value for value in values if value > 0.] for key, \n",
    "                  values in data.items()}\n",
    "    \n",
    "    medians = {}  \n",
    "    std_devs = {}\n",
    "    for distance, values in new_data.items():\n",
    "        median_value = np.mean(values)\n",
    "        medians[distance] = median_value\n",
    "        \n",
    "        std_deviation = np.std(values)\n",
    "        std_devs[distance] = std_deviation\n",
    "    return new_data, medians, std_devs"
   ]
  },
  {
   "cell_type": "code",
   "execution_count": 31,
   "id": "e4b2facb",
   "metadata": {},
   "outputs": [],
   "source": [
    "def exponential_decay_function(x, a, b, c):\n",
    "    return a * np.exp(-b * x) + c\n",
    "\n",
    "def logarithmic_decay_function(x, a, b, c):\n",
    "    return a * np.log(b * x ) + c"
   ]
  },
  {
   "cell_type": "code",
   "execution_count": 32,
   "id": "b6932265",
   "metadata": {},
   "outputs": [],
   "source": [
    "def r2_score(y_true, y_pred):\n",
    "    ss_total = np.sum((y_true - np.mean(y_true)) ** 2)\n",
    "    ss_residual = np.sum((y_true - y_pred) ** 2)\n",
    "    return 1 - (ss_residual / ss_total)"
   ]
  },
  {
   "cell_type": "code",
   "execution_count": 33,
   "id": "2bbde051",
   "metadata": {},
   "outputs": [],
   "source": [
    "def make_exp_fit_pre(x_data, y_data, sample_name):\n",
    "    x_data[0] = 0.01  \n",
    "    a_range = np.linspace(0.001, 1, 10)\n",
    "    b_range = np.linspace(-1., 4., 20)\n",
    "    c_range = np.linspace(0.001, 1., 20)\n",
    "    best_r2 = -np.inf  \n",
    "    best_params = None\n",
    "    best_fit = None\n",
    "\n",
    "    for a in a_range:\n",
    "        for b in b_range:\n",
    "            for c in c_range:\n",
    "                try:\n",
    "                    \n",
    "                    params, covariance = curve_fit(exponential_decay_function, x_data, y_data, \n",
    "                                                   p0=[a, b, c], bounds=([0, -np.inf, 0], [1, np.inf, 1]))\n",
    "                    y_fit_exp = exponential_decay_function(x_data, *params)\n",
    "                    r2_exp = r2_score(y_data, y_fit_exp)\n",
    "\n",
    "                    \n",
    "                    if r2_exp > best_r2:\n",
    "                        best_r2 = r2_exp\n",
    "                        best_params = params\n",
    "                        best_fit = y_fit_exp\n",
    "                        best_loss_function = 'exp'\n",
    "\n",
    "                except Exception as e:\n",
    "                    print(f\"An error occurred: {e}\")  \n",
    "                    pass  \n",
    "    \n",
    "    print(f'Best R^2 for exponential fit: {best_r2}')\n",
    "    print(f'Best parameters for exponential fit: {best_params}')\n",
    "    return best_fit, best_params, best_r2"
   ]
  },
  {
   "cell_type": "code",
   "execution_count": 34,
   "id": "88780896",
   "metadata": {},
   "outputs": [],
   "source": [
    "def make_log_fit_pre(x_data, y_data, sample_name):\n",
    "    x_data[0]=.01\n",
    "    a_range = np.linspace(-1., -1e-5, 10)\n",
    "    b_range = np.linspace(0.001, 4., 20)\n",
    "    c_range = np.linspace(-1., 0., 20)\n",
    "    best_r2 = -np.inf  \n",
    "    best_params = None\n",
    "    best_fit = None\n",
    "\n",
    "    for a in a_range:\n",
    "        for b in b_range:\n",
    "            for c in c_range:\n",
    "                try:\n",
    "                    \n",
    "                    params, covariance = curve_fit(logarithmic_decay_function, x_data, y_data, \n",
    "                                                   p0=[a, b, c], bounds=([-1, 1e-5, -1], [-1e-5, np.inf, 0]))\n",
    "                    y_fit_log = logarithmic_decay_function(x_data, *params)\n",
    "                    r2_log = r2_score(y_data, y_fit_log)\n",
    "\n",
    "                    \n",
    "                    if r2_log > best_r2:\n",
    "                        best_r2 = r2_log\n",
    "                        best_params = params\n",
    "                        best_fit = y_fit_log\n",
    "                        best_loss_function = 'log'\n",
    "\n",
    "                except Exception as e:\n",
    "                    print(f\"An error occurred: {e}\")  \n",
    "                    pass  \n",
    "    print(f'Best R^2 for logarithmic fit: {best_r2}')\n",
    "    print(f'Best parameters for logarithmic fit: {best_params}')\n",
    "    return best_fit, best_params, best_r2"
   ]
  },
  {
   "cell_type": "code",
   "execution_count": 35,
   "id": "985c984a",
   "metadata": {},
   "outputs": [],
   "source": [
    "##R2 value closest to 1 best matches data\n",
    "def best_fit(exp_r2, log_r2):\n",
    "    exp_dif = np.abs(1 - exp_r2)\n",
    "    log_dif = np.abs(1 - log_r2)\n",
    "    best_model = None\n",
    "    if exp_dif < log_dif:\n",
    "        best_model = 'exp'\n",
    "\n",
    "    else:\n",
    "        best_model = 'log'\n",
    "\n",
    "    return (f'exp R2: {np.round(exp_r2,4)}, ln R2: {np.round(log_r2,4)} --> best model: {best_model}')"
   ]
  },
  {
   "cell_type": "code",
   "execution_count": 36,
   "id": "4b9c9eed",
   "metadata": {},
   "outputs": [],
   "source": [
    "S49_0_data_x, S49_0_med_x, S49_0_std_x = get_info_spatial('data/S49_0.csv')\n",
    "S49_1_data_x, S49_1_med_x, S49_1_std_x = get_info_spatial('data/S49_1.csv')\n",
    "S49_2_data_x, S49_2_med_x, S49_2_std_x = get_info_spatial('data/S49_2.csv')\n",
    "S49_3_data_x, S49_3_med_x, S49_3_std_x = get_info_spatial('data/S49_3.csv')\n",
    "S49_5_data_x, S49_5_med_x, S49_5_std_x = get_info_spatial('data/S49_5.csv')"
   ]
  },
  {
   "cell_type": "code",
   "execution_count": 13,
   "id": "64cb6803",
   "metadata": {},
   "outputs": [],
   "source": [
    "S49_0_x = np.array(list(S49_0_med_x.keys()))\n",
    "S49_0_y = np.array(list(S49_0_med_x.values()))\n",
    "S49_1_x = np.array(list(S49_1_med_x.keys()))\n",
    "S49_1_y = np.array(list(S49_1_med_x.values()))\n",
    "S49_2_x = np.array(list(S49_2_med_x.keys()))\n",
    "S49_2_y = np.array(list(S49_2_med_x.values()))\n",
    "S49_3_x = np.array(list(S49_3_med_x.keys()))\n",
    "S49_3_y = np.array(list(S49_3_med_x.values()))\n",
    "S49_5_x = np.array(list(S49_5_med_x.keys()))\n",
    "S49_5_y = np.array(list(S49_5_med_x.values()))"
   ]
  },
  {
   "cell_type": "code",
   "execution_count": 14,
   "id": "423696f9",
   "metadata": {},
   "outputs": [
    {
     "name": "stdout",
     "output_type": "stream",
     "text": [
      "Best R^2 for exponential fit: 0.9806160337899654\n",
      "Best parameters for exponential fit: [1.67211207e-02 3.73682398e+00 1.46950345e-03]\n",
      "Best R^2 for exponential fit: 0.9891090572128101\n",
      "Best parameters for exponential fit: [0.06416535 1.67335009 0.01122225]\n",
      "Best R^2 for exponential fit: 0.9950801679188649\n",
      "Best parameters for exponential fit: [0.06999184 0.70797204 0.02934164]\n",
      "Best R^2 for exponential fit: 0.9722829866286917\n",
      "Best parameters for exponential fit: [0.06004396 2.27134098 0.00694771]\n",
      "Best R^2 for logarithmic fit: 0.859581936749701\n",
      "Best parameters for logarithmic fit: [-0.00269453  0.01683296 -0.00735324]\n",
      "Best R^2 for logarithmic fit: 0.928246059936868\n",
      "Best parameters for logarithmic fit: [-0.0137993   0.00594733 -0.04465375]\n",
      "Best R^2 for logarithmic fit: 0.8739528132787056\n",
      "Best parameters for logarithmic fit: [-0.01597713  0.00577948 -0.0237971 ]\n",
      "Best R^2 for logarithmic fit: 0.9644286211933454\n",
      "Best parameters for logarithmic fit: [-0.0121634   0.00226312 -0.05584291]\n"
     ]
    }
   ],
   "source": [
    "S49_0_fit,S49_0_params,S49_0_r2 = make_exp_fit_pre(S49_0_x,S49_0_y,'S49_0')\n",
    "S49_1_fit,S49_1_params,S49_1_r2 = make_exp_fit_pre(S49_1_x,S49_1_y,'S49_1')\n",
    "S49_2_fit,S49_2_params,S49_2_r2 = make_exp_fit_pre(S49_2_x,S49_2_y,'S49_2')\n",
    "S49_3_fit,S49_3_params,S49_3_r2 = make_exp_fit_pre(S49_3_x,S49_3_y,'S49_3')\n",
    "\n",
    "S49_0_fitl,S49_0_paramsl,S49_0_r2l = make_log_fit_pre(S49_0_x,S49_0_y,'S49_0')\n",
    "S49_1_fitl,S49_1_paramsl,S49_1_r2l = make_log_fit_pre(S49_1_x,S49_1_y,'S49_1')\n",
    "S49_2_fitl,S49_2_paramsl,S49_2_r2l = make_log_fit_pre(S49_2_x,S49_2_y,'S49_2')\n",
    "S49_3_fitl,S49_3_paramsl,S49_3_r2l = make_log_fit_pre(S49_3_x,S49_3_y,'S49_3')"
   ]
  },
  {
   "cell_type": "code",
   "execution_count": 26,
   "id": "dc7f9d9d",
   "metadata": {},
   "outputs": [
    {
     "name": "stdout",
     "output_type": "stream",
     "text": [
      "exp R2: 0.9806, ln R2: 0.8596 --> best model: exp\n",
      "exp R2: 0.9891, ln R2: 0.9282 --> best model: exp\n",
      "exp R2: 0.9951, ln R2: 0.874 --> best model: exp\n",
      "exp R2: 0.9723, ln R2: 0.9644 --> best model: exp\n"
     ]
    }
   ],
   "source": [
    "print(best_fit(S49_0_r2,S49_0_r2l))\n",
    "print(best_fit(S49_1_r2,S49_1_r2l))\n",
    "print(best_fit(S49_2_r2,S49_2_r2l))\n",
    "print(best_fit(S49_3_r2,S49_3_r2l))"
   ]
  },
  {
   "cell_type": "code",
   "execution_count": null,
   "id": "2933d679",
   "metadata": {},
   "outputs": [],
   "source": []
  }
 ],
 "metadata": {
  "kernelspec": {
   "display_name": "Python 3",
   "language": "python",
   "name": "python3"
  },
  "language_info": {
   "codemirror_mode": {
    "name": "ipython",
    "version": 3
   },
   "file_extension": ".py",
   "mimetype": "text/x-python",
   "name": "python",
   "nbconvert_exporter": "python",
   "pygments_lexer": "ipython3",
   "version": "3.11.3"
  }
 },
 "nbformat": 4,
 "nbformat_minor": 5
}
